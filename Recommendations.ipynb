{
 "cells": [
  {
   "cell_type": "markdown",
   "id": "026fbdb7-b405-461a-b6ae-14cf679de8c7",
   "metadata": {},
   "source": [
    "# Analyst Recommendation History for Given Stock"
   ]
  },
  {
   "cell_type": "markdown",
   "id": "c8775c52-14cd-40d1-a70d-69386d031638",
   "metadata": {},
   "source": [
    "### Lists Buys Sells and holds for Given Stock"
   ]
  },
  {
   "cell_type": "code",
   "execution_count": 8,
   "id": "1878d51c-223f-44c6-9579-89e816d482fd",
   "metadata": {},
   "outputs": [],
   "source": [
    "### Libraries\n",
    "import numpy as np\n",
    "import pandas as pd\n",
    "import yfinance as yf"
   ]
  },
  {
   "cell_type": "code",
   "execution_count": 11,
   "id": "b9cd2e0e-7f3b-4c59-99b9-aea3a8f666c3",
   "metadata": {},
   "outputs": [],
   "source": [
    "def analystrecom(ticker):\n",
    "    stock = yf.Ticker(ticker)\n",
    "    # Get recommendations from 2020 - Present\n",
    "    data1 = stock.recommendations['2020'::]\n",
    "    data2 = pd.DataFrame(data1['To Grade'])\n",
    "    # Calculate total buys, holds, sells\n",
    "    buys = data2.where((data2=='Buy') | (data2=='Overweight') | (data2=='Outperform') | (data2=='Strong Buy') | (data2=='Positive'))\n",
    "    holds = data2.where((data2=='Neutral') | (data2=='Hold') | (data2=='Market Perform') | (data2=='Equal-Weight') | (data2=='Sector Weight') | (data2=='Sector Perform'))\n",
    "    sells = data2.where((data2=='Sell') | (data2=='Underweight') | (data2=='Underperform'))\n",
    "    # Convert totals to numbers\n",
    "    num_buys = buys.count()\n",
    "    num_holds = holds.count()\n",
    "    num_sells = sells.count()\n",
    "    # Create a dataframe from them\n",
    "    # Recoms = pd.DataFrame(data = [num_buys, num_sells, num_holds], columns=['Buys','Holds', 'Sells'])\n",
    "    # Plotting\n",
    "    #fig = plt.figure()\n",
    "    #ax = fig.add_axes([0,0,1,1])\n",
    "    #values = [num_buys, num_sells, num_holds]\n",
    "    #recoms = ['Buys', 'Holds', 'Sells']\n",
    "    #ax.bar(values, recoms)\n",
    "    #plt.show()\n",
    "    Recoms = {'Buys': num_buys,'Sells': num_sells, 'Holds': num_holds}\n",
    "    Recommendations = pd.DataFrame(Recoms)\n",
    "    #Recommendations.plot.bar(rot=0)\n",
    "    Recommendations.insert(loc=0,column='ticker',value=ticker)\n",
    "    Recommendations.reset_index(drop=True, inplace=True)\n",
    "    return(Recommendations)\n",
    "\n",
    "#opendf = pd.DataFrame()\n",
    "#for i in tickers:\n",
    "  #  opendf.append(Recommendations)\n",
    "  #  print(opendf)\n",
    "  #  continue\n",
    "#opendf = pd.DataFrame(columns=['ticker','Buys','Sells','Holds'])\n",
    "#for i in tickers: \n",
    "    #opendf = opendf.append(analystrecom(i))\n",
    "    #AnalystRecom = pd.DataFrame(opendf.append(analystrecom(i)))\n",
    "    #print(AnalystRecom)\n",
    "#analystrecom('aapl')\n",
    "def sp500df(tickers):\n",
    "    seriesofdf = tickers.apply(analystrecom).values\n",
    "    masterdf = pd.concat(seriesofdf)\n",
    "    masterdf.reset_index(drop=True, inplace=True)\n",
    "    return masterdf\n",
    "\n",
    "\n"
   ]
  },
  {
   "cell_type": "code",
   "execution_count": 12,
   "id": "566a0a8d-1d71-4cbe-8862-ad2eeb8dc1a9",
   "metadata": {},
   "outputs": [
    {
     "data": {
      "text/html": [
       "<div>\n",
       "<style scoped>\n",
       "    .dataframe tbody tr th:only-of-type {\n",
       "        vertical-align: middle;\n",
       "    }\n",
       "\n",
       "    .dataframe tbody tr th {\n",
       "        vertical-align: top;\n",
       "    }\n",
       "\n",
       "    .dataframe thead th {\n",
       "        text-align: right;\n",
       "    }\n",
       "</style>\n",
       "<table border=\"1\" class=\"dataframe\">\n",
       "  <thead>\n",
       "    <tr style=\"text-align: right;\">\n",
       "      <th></th>\n",
       "      <th>ticker</th>\n",
       "      <th>Buys</th>\n",
       "      <th>Sells</th>\n",
       "      <th>Holds</th>\n",
       "    </tr>\n",
       "  </thead>\n",
       "  <tbody>\n",
       "    <tr>\n",
       "      <th>0</th>\n",
       "      <td>AAPL</td>\n",
       "      <td>153</td>\n",
       "      <td>6</td>\n",
       "      <td>37</td>\n",
       "    </tr>\n",
       "  </tbody>\n",
       "</table>\n",
       "</div>"
      ],
      "text/plain": [
       "  ticker  Buys  Sells  Holds\n",
       "0   AAPL   153      6     37"
      ]
     },
     "execution_count": 12,
     "metadata": {},
     "output_type": "execute_result"
    }
   ],
   "source": [
    "analystrecom('AAPL')"
   ]
  },
  {
   "cell_type": "code",
   "execution_count": null,
   "id": "9e0cf026-1c87-4a28-b722-5bf87df09302",
   "metadata": {},
   "outputs": [],
   "source": []
  }
 ],
 "metadata": {
  "kernelspec": {
   "display_name": "Python 3",
   "language": "python",
   "name": "python3"
  },
  "language_info": {
   "codemirror_mode": {
    "name": "ipython",
    "version": 3
   },
   "file_extension": ".py",
   "mimetype": "text/x-python",
   "name": "python",
   "nbconvert_exporter": "python",
   "pygments_lexer": "ipython3",
   "version": "3.9.5"
  }
 },
 "nbformat": 4,
 "nbformat_minor": 5
}
